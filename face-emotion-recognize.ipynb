{
 "cells": [
  {
   "cell_type": "code",
   "execution_count": 1,
   "id": "04811c63",
   "metadata": {
    "execution": {
     "iopub.execute_input": "2024-11-22T01:05:06.256561Z",
     "iopub.status.busy": "2024-11-22T01:05:06.256165Z",
     "iopub.status.idle": "2024-11-22T01:05:14.523222Z",
     "shell.execute_reply": "2024-11-22T01:05:14.522261Z"
    },
    "papermill": {
     "duration": 8.274664,
     "end_time": "2024-11-22T01:05:14.525658",
     "exception": false,
     "start_time": "2024-11-22T01:05:06.250994",
     "status": "completed"
    },
    "tags": []
   },
   "outputs": [],
   "source": [
    "import os\n",
    "import numpy as np \n",
    "import pandas as pd  \n",
    "import matplotlib.pyplot as plt \n",
    "import seaborn as sns\n",
    "from sklearn.metrics import accuracy_score\n",
    "\n",
    "from PIL import Image \n",
    "\n",
    "import torch\n",
    "from torch.utils.data import Dataset, DataLoader\n",
    "import torch.nn.functional as F\n",
    "import torch.nn as nn \n",
    "import torch.optim as optim \n",
    "import torchvision\n",
    "from torchvision import transforms\n",
    "from torchvision.transforms import ToTensor, RandomResizedCrop, RandomHorizontalFlip, RandomVerticalFlip;\n",
    "from torchvision.utils import make_grid"
   ]
  },
  {
   "cell_type": "code",
   "execution_count": 2,
   "id": "321c15b0",
   "metadata": {
    "execution": {
     "iopub.execute_input": "2024-11-22T01:05:14.535753Z",
     "iopub.status.busy": "2024-11-22T01:05:14.534717Z",
     "iopub.status.idle": "2024-11-22T01:05:14.539956Z",
     "shell.execute_reply": "2024-11-22T01:05:14.538930Z"
    },
    "papermill": {
     "duration": 0.012415,
     "end_time": "2024-11-22T01:05:14.542215",
     "exception": false,
     "start_time": "2024-11-22T01:05:14.529800",
     "status": "completed"
    },
    "tags": []
   },
   "outputs": [],
   "source": [
    "#select device\n",
    "if torch.cuda.is_available():\n",
    "  device = \"cuda\"\n",
    "else:\n",
    "  device = \"cpu\""
   ]
  },
  {
   "cell_type": "code",
   "execution_count": 3,
   "id": "9571cb86",
   "metadata": {
    "execution": {
     "iopub.execute_input": "2024-11-22T01:05:14.552207Z",
     "iopub.status.busy": "2024-11-22T01:05:14.551227Z",
     "iopub.status.idle": "2024-11-22T01:05:21.986899Z",
     "shell.execute_reply": "2024-11-22T01:05:21.985734Z"
    },
    "papermill": {
     "duration": 7.443852,
     "end_time": "2024-11-22T01:05:21.990119",
     "exception": false,
     "start_time": "2024-11-22T01:05:14.546267",
     "status": "completed"
    },
    "tags": []
   },
   "outputs": [
    {
     "name": "stdout",
     "output_type": "stream",
     "text": [
      "<class 'pandas.core.frame.DataFrame'>\n",
      "RangeIndex: 35887 entries, 0 to 35886\n",
      "Data columns (total 3 columns):\n",
      " #   Column   Non-Null Count  Dtype \n",
      "---  ------   --------------  ----- \n",
      " 0   emotion  35887 non-null  int64 \n",
      " 1   pixels   35887 non-null  object\n",
      " 2   Usage    35887 non-null  object\n",
      "dtypes: int64(1), object(2)\n",
      "memory usage: 841.2+ KB\n"
     ]
    }
   ],
   "source": [
    "# uplode data\n",
    "df = pd.read_csv(\"/kaggle/input/fer2013/fer2013.csv\")\n",
    "df.info()"
   ]
  },
  {
   "cell_type": "code",
   "execution_count": 4,
   "id": "6dc07b24",
   "metadata": {
    "execution": {
     "iopub.execute_input": "2024-11-22T01:05:22.000397Z",
     "iopub.status.busy": "2024-11-22T01:05:21.999988Z",
     "iopub.status.idle": "2024-11-22T01:05:22.014643Z",
     "shell.execute_reply": "2024-11-22T01:05:22.013600Z"
    },
    "papermill": {
     "duration": 0.022249,
     "end_time": "2024-11-22T01:05:22.016950",
     "exception": false,
     "start_time": "2024-11-22T01:05:21.994701",
     "status": "completed"
    },
    "tags": []
   },
   "outputs": [
    {
     "data": {
      "text/html": [
       "<div>\n",
       "<style scoped>\n",
       "    .dataframe tbody tr th:only-of-type {\n",
       "        vertical-align: middle;\n",
       "    }\n",
       "\n",
       "    .dataframe tbody tr th {\n",
       "        vertical-align: top;\n",
       "    }\n",
       "\n",
       "    .dataframe thead th {\n",
       "        text-align: right;\n",
       "    }\n",
       "</style>\n",
       "<table border=\"1\" class=\"dataframe\">\n",
       "  <thead>\n",
       "    <tr style=\"text-align: right;\">\n",
       "      <th></th>\n",
       "      <th>emotion</th>\n",
       "      <th>pixels</th>\n",
       "      <th>Usage</th>\n",
       "    </tr>\n",
       "  </thead>\n",
       "  <tbody>\n",
       "    <tr>\n",
       "      <th>0</th>\n",
       "      <td>0</td>\n",
       "      <td>70 80 82 72 58 58 60 63 54 58 60 48 89 115 121...</td>\n",
       "      <td>Training</td>\n",
       "    </tr>\n",
       "    <tr>\n",
       "      <th>1</th>\n",
       "      <td>0</td>\n",
       "      <td>151 150 147 155 148 133 111 140 170 174 182 15...</td>\n",
       "      <td>Training</td>\n",
       "    </tr>\n",
       "    <tr>\n",
       "      <th>2</th>\n",
       "      <td>2</td>\n",
       "      <td>231 212 156 164 174 138 161 173 182 200 106 38...</td>\n",
       "      <td>Training</td>\n",
       "    </tr>\n",
       "    <tr>\n",
       "      <th>3</th>\n",
       "      <td>4</td>\n",
       "      <td>24 32 36 30 32 23 19 20 30 41 21 22 32 34 21 1...</td>\n",
       "      <td>Training</td>\n",
       "    </tr>\n",
       "    <tr>\n",
       "      <th>4</th>\n",
       "      <td>6</td>\n",
       "      <td>4 0 0 0 0 0 0 0 0 0 0 0 3 15 23 28 48 50 58 84...</td>\n",
       "      <td>Training</td>\n",
       "    </tr>\n",
       "  </tbody>\n",
       "</table>\n",
       "</div>"
      ],
      "text/plain": [
       "   emotion                                             pixels     Usage\n",
       "0        0  70 80 82 72 58 58 60 63 54 58 60 48 89 115 121...  Training\n",
       "1        0  151 150 147 155 148 133 111 140 170 174 182 15...  Training\n",
       "2        2  231 212 156 164 174 138 161 173 182 200 106 38...  Training\n",
       "3        4  24 32 36 30 32 23 19 20 30 41 21 22 32 34 21 1...  Training\n",
       "4        6  4 0 0 0 0 0 0 0 0 0 0 0 3 15 23 28 48 50 58 84...  Training"
      ]
     },
     "execution_count": 4,
     "metadata": {},
     "output_type": "execute_result"
    }
   ],
   "source": [
    "df.head()"
   ]
  },
  {
   "cell_type": "code",
   "execution_count": 5,
   "id": "d2fedb62",
   "metadata": {
    "execution": {
     "iopub.execute_input": "2024-11-22T01:05:22.027546Z",
     "iopub.status.busy": "2024-11-22T01:05:22.026617Z",
     "iopub.status.idle": "2024-11-22T01:05:22.036397Z",
     "shell.execute_reply": "2024-11-22T01:05:22.035510Z"
    },
    "papermill": {
     "duration": 0.017719,
     "end_time": "2024-11-22T01:05:22.038978",
     "exception": false,
     "start_time": "2024-11-22T01:05:22.021259",
     "status": "completed"
    },
    "tags": []
   },
   "outputs": [
    {
     "data": {
      "text/html": [
       "<div>\n",
       "<style scoped>\n",
       "    .dataframe tbody tr th:only-of-type {\n",
       "        vertical-align: middle;\n",
       "    }\n",
       "\n",
       "    .dataframe tbody tr th {\n",
       "        vertical-align: top;\n",
       "    }\n",
       "\n",
       "    .dataframe thead th {\n",
       "        text-align: right;\n",
       "    }\n",
       "</style>\n",
       "<table border=\"1\" class=\"dataframe\">\n",
       "  <thead>\n",
       "    <tr style=\"text-align: right;\">\n",
       "      <th></th>\n",
       "      <th>emotion</th>\n",
       "      <th>pixels</th>\n",
       "      <th>Usage</th>\n",
       "    </tr>\n",
       "  </thead>\n",
       "  <tbody>\n",
       "    <tr>\n",
       "      <th>35882</th>\n",
       "      <td>6</td>\n",
       "      <td>50 36 17 22 23 29 33 39 34 37 37 37 39 43 48 5...</td>\n",
       "      <td>PrivateTest</td>\n",
       "    </tr>\n",
       "    <tr>\n",
       "      <th>35883</th>\n",
       "      <td>3</td>\n",
       "      <td>178 174 172 173 181 188 191 194 196 199 200 20...</td>\n",
       "      <td>PrivateTest</td>\n",
       "    </tr>\n",
       "    <tr>\n",
       "      <th>35884</th>\n",
       "      <td>0</td>\n",
       "      <td>17 17 16 23 28 22 19 17 25 26 20 24 31 19 27 9...</td>\n",
       "      <td>PrivateTest</td>\n",
       "    </tr>\n",
       "    <tr>\n",
       "      <th>35885</th>\n",
       "      <td>3</td>\n",
       "      <td>30 28 28 29 31 30 42 68 79 81 77 67 67 71 63 6...</td>\n",
       "      <td>PrivateTest</td>\n",
       "    </tr>\n",
       "    <tr>\n",
       "      <th>35886</th>\n",
       "      <td>2</td>\n",
       "      <td>19 13 14 12 13 16 21 33 50 57 71 84 97 108 122...</td>\n",
       "      <td>PrivateTest</td>\n",
       "    </tr>\n",
       "  </tbody>\n",
       "</table>\n",
       "</div>"
      ],
      "text/plain": [
       "       emotion                                             pixels        Usage\n",
       "35882        6  50 36 17 22 23 29 33 39 34 37 37 37 39 43 48 5...  PrivateTest\n",
       "35883        3  178 174 172 173 181 188 191 194 196 199 200 20...  PrivateTest\n",
       "35884        0  17 17 16 23 28 22 19 17 25 26 20 24 31 19 27 9...  PrivateTest\n",
       "35885        3  30 28 28 29 31 30 42 68 79 81 77 67 67 71 63 6...  PrivateTest\n",
       "35886        2  19 13 14 12 13 16 21 33 50 57 71 84 97 108 122...  PrivateTest"
      ]
     },
     "execution_count": 5,
     "metadata": {},
     "output_type": "execute_result"
    }
   ],
   "source": [
    "df.tail()"
   ]
  },
  {
   "cell_type": "code",
   "execution_count": 6,
   "id": "32b4f375",
   "metadata": {
    "execution": {
     "iopub.execute_input": "2024-11-22T01:05:22.050251Z",
     "iopub.status.busy": "2024-11-22T01:05:22.049809Z",
     "iopub.status.idle": "2024-11-22T01:05:22.056103Z",
     "shell.execute_reply": "2024-11-22T01:05:22.055090Z"
    },
    "papermill": {
     "duration": 0.014617,
     "end_time": "2024-11-22T01:05:22.058286",
     "exception": false,
     "start_time": "2024-11-22T01:05:22.043669",
     "status": "completed"
    },
    "tags": []
   },
   "outputs": [
    {
     "data": {
      "text/plain": [
       "(35887, 3)"
      ]
     },
     "execution_count": 6,
     "metadata": {},
     "output_type": "execute_result"
    }
   ],
   "source": [
    "df.shape"
   ]
  },
  {
   "cell_type": "code",
   "execution_count": 7,
   "id": "f854cbae",
   "metadata": {
    "execution": {
     "iopub.execute_input": "2024-11-22T01:05:22.069228Z",
     "iopub.status.busy": "2024-11-22T01:05:22.068434Z",
     "iopub.status.idle": "2024-11-22T01:05:22.075283Z",
     "shell.execute_reply": "2024-11-22T01:05:22.074141Z"
    },
    "papermill": {
     "duration": 0.014748,
     "end_time": "2024-11-22T01:05:22.077579",
     "exception": false,
     "start_time": "2024-11-22T01:05:22.062831",
     "status": "completed"
    },
    "tags": []
   },
   "outputs": [],
   "source": [
    "class FER_Df(torch.utils.data.Dataset):\n",
    "  def __init__(self, file_addr):\n",
    "    super().__init__()\n",
    "    pd_dataset = pd.read_csv(file_addr)\n",
    "\n",
    "    self.numpy_dataset = np.array(pd_dataset, dtype=np.float32)\n",
    "\n",
    "\n",
    "  def __len__(self):\n",
    "    return len(self.numpy_dataset)\n",
    "\n",
    "  def __getitem__(self, index):\n",
    "\n",
    "    X = self.numpy_dataset[index, 1:]\n",
    "    Y = self.numpy_dataset[index, 0]\n",
    "\n",
    "\n",
    "    return X, Y"
   ]
  },
  {
   "cell_type": "code",
   "execution_count": 8,
   "id": "33e22991",
   "metadata": {
    "execution": {
     "iopub.execute_input": "2024-11-22T01:05:22.089187Z",
     "iopub.status.busy": "2024-11-22T01:05:22.088779Z",
     "iopub.status.idle": "2024-11-22T01:05:22.095756Z",
     "shell.execute_reply": "2024-11-22T01:05:22.094669Z"
    },
    "papermill": {
     "duration": 0.014739,
     "end_time": "2024-11-22T01:05:22.097876",
     "exception": false,
     "start_time": "2024-11-22T01:05:22.083137",
     "status": "completed"
    },
    "tags": []
   },
   "outputs": [],
   "source": [
    "class FER_CNN(nn.Module):\n",
    "  def __init__(self):\n",
    "    super().__init__()\n",
    "\n",
    "    self.layers = nn.ModuleList()\n",
    "\n",
    "    self.layers.append(nn.Linear(35884, 2048))\n",
    "    self.layers.append(nn.Linear(2048, 512))\n",
    "    self.layers.append(nn.Linear(512, 128))\n",
    "    self.layers.append(nn.Linear(128, 3))\n",
    "\n",
    "    self.softmax = nn.Softmax(dim=1)\n",
    "\n",
    "  def forward(self, x):\n",
    "    for layer in self.layers:\n",
    "      x = layer(x)\n",
    "\n",
    "    x = self.softmax(x)\n",
    "    return x"
   ]
  },
  {
   "cell_type": "code",
   "execution_count": 9,
   "id": "ef499251",
   "metadata": {
    "execution": {
     "iopub.execute_input": "2024-11-22T01:05:22.108836Z",
     "iopub.status.busy": "2024-11-22T01:05:22.108432Z",
     "iopub.status.idle": "2024-11-22T01:05:22.130246Z",
     "shell.execute_reply": "2024-11-22T01:05:22.129167Z"
    },
    "papermill": {
     "duration": 0.030317,
     "end_time": "2024-11-22T01:05:22.132714",
     "exception": false,
     "start_time": "2024-11-22T01:05:22.102397",
     "status": "completed"
    },
    "tags": []
   },
   "outputs": [],
   "source": [
    "# Separating test and training data\n",
    "df_pub_test = df[df.Usage==\"PublicTest\"]\n",
    "df_pri_test = df[df.Usage==\"PrivateTest\"]\n",
    "df = df[df.Usage==\"Training\"]"
   ]
  },
  {
   "cell_type": "code",
   "execution_count": 10,
   "id": "f6937b09",
   "metadata": {
    "execution": {
     "iopub.execute_input": "2024-11-22T01:05:22.143451Z",
     "iopub.status.busy": "2024-11-22T01:05:22.143097Z",
     "iopub.status.idle": "2024-11-22T01:05:24.657142Z",
     "shell.execute_reply": "2024-11-22T01:05:24.655959Z"
    },
    "papermill": {
     "duration": 2.52173,
     "end_time": "2024-11-22T01:05:24.659172",
     "exception": false,
     "start_time": "2024-11-22T01:05:22.137442",
     "status": "completed"
    },
    "tags": []
   },
   "outputs": [
    {
     "name": "stdout",
     "output_type": "stream",
     "text": [
      "{2304}\n"
     ]
    }
   ],
   "source": [
    "lengths = [len(pix.split()) for pix in df.pixels]\n",
    "print(set(lengths))"
   ]
  },
  {
   "cell_type": "code",
   "execution_count": 11,
   "id": "aa4a78cd",
   "metadata": {
    "execution": {
     "iopub.execute_input": "2024-11-22T01:05:24.669914Z",
     "iopub.status.busy": "2024-11-22T01:05:24.669505Z",
     "iopub.status.idle": "2024-11-22T01:05:24.684425Z",
     "shell.execute_reply": "2024-11-22T01:05:24.683357Z"
    },
    "papermill": {
     "duration": 0.022681,
     "end_time": "2024-11-22T01:05:24.686378",
     "exception": false,
     "start_time": "2024-11-22T01:05:24.663697",
     "status": "completed"
    },
    "tags": []
   },
   "outputs": [
    {
     "data": {
      "text/html": [
       "<div>\n",
       "<style scoped>\n",
       "    .dataframe tbody tr th:only-of-type {\n",
       "        vertical-align: middle;\n",
       "    }\n",
       "\n",
       "    .dataframe tbody tr th {\n",
       "        vertical-align: top;\n",
       "    }\n",
       "\n",
       "    .dataframe thead th {\n",
       "        text-align: right;\n",
       "    }\n",
       "</style>\n",
       "<table border=\"1\" class=\"dataframe\">\n",
       "  <thead>\n",
       "    <tr style=\"text-align: right;\">\n",
       "      <th></th>\n",
       "      <th>emotion</th>\n",
       "      <th>number</th>\n",
       "    </tr>\n",
       "  </thead>\n",
       "  <tbody>\n",
       "    <tr>\n",
       "      <th>0</th>\n",
       "      <td>Angry</td>\n",
       "      <td>3995</td>\n",
       "    </tr>\n",
       "    <tr>\n",
       "      <th>1</th>\n",
       "      <td>Fear</td>\n",
       "      <td>4097</td>\n",
       "    </tr>\n",
       "    <tr>\n",
       "      <th>2</th>\n",
       "      <td>Sad</td>\n",
       "      <td>4830</td>\n",
       "    </tr>\n",
       "    <tr>\n",
       "      <th>3</th>\n",
       "      <td>Neutral</td>\n",
       "      <td>4965</td>\n",
       "    </tr>\n",
       "    <tr>\n",
       "      <th>4</th>\n",
       "      <td>Happy</td>\n",
       "      <td>7215</td>\n",
       "    </tr>\n",
       "    <tr>\n",
       "      <th>5</th>\n",
       "      <td>Surprise</td>\n",
       "      <td>3171</td>\n",
       "    </tr>\n",
       "    <tr>\n",
       "      <th>6</th>\n",
       "      <td>Disgust</td>\n",
       "      <td>436</td>\n",
       "    </tr>\n",
       "  </tbody>\n",
       "</table>\n",
       "</div>"
      ],
      "text/plain": [
       "    emotion  number\n",
       "0     Angry    3995\n",
       "1      Fear    4097\n",
       "2       Sad    4830\n",
       "3   Neutral    4965\n",
       "4     Happy    7215\n",
       "5  Surprise    3171\n",
       "6   Disgust     436"
      ]
     },
     "execution_count": 11,
     "metadata": {},
     "output_type": "execute_result"
    }
   ],
   "source": [
    "emotions = {\n",
    "    0: 'Angry',\n",
    "    1: 'Disgust',\n",
    "    2: 'Fear',\n",
    "    3: 'Happy',\n",
    "    4: 'Sad',\n",
    "    5: 'Surprise',\n",
    "    6: 'Neutral'}\n",
    "\n",
    "emotion_counts = df['emotion'].value_counts(sort=False).reset_index()\n",
    "emotion_counts.columns = ['emotion', 'number']\n",
    "emotion_counts['emotion'] = emotion_counts['emotion'].map(emotions)\n",
    "emotion_counts"
   ]
  },
  {
   "cell_type": "code",
   "execution_count": 12,
   "id": "00e19219",
   "metadata": {
    "execution": {
     "iopub.execute_input": "2024-11-22T01:05:24.697670Z",
     "iopub.status.busy": "2024-11-22T01:05:24.697325Z",
     "iopub.status.idle": "2024-11-22T01:05:25.005659Z",
     "shell.execute_reply": "2024-11-22T01:05:25.004486Z"
    },
    "papermill": {
     "duration": 0.316791,
     "end_time": "2024-11-22T01:05:25.008047",
     "exception": false,
     "start_time": "2024-11-22T01:05:24.691256",
     "status": "completed"
    },
    "tags": []
   },
   "outputs": [
    {
     "data": {
      "image/png": "[encoded data removed]",
      "text/plain": [
       "<Figure size 800x600 with 1 Axes>"
      ]
     },
     "metadata": {},
     "output_type": "display_data"
    }
   ],
   "source": [
    "# Displaying sentiment distribution data using a bar chart\n",
    "emotion_counts = df['emotion'].value_counts(sort=False).reset_index()\n",
    "emotion_counts.columns = ['emotion', 'number']\n",
    "emotion_counts['emotion'] = emotion_counts['emotion'].map(emotions)\n",
    "plt.figure(figsize=(8, 6))\n",
    "sns.barplot(x='number', y='emotion', data=emotion_counts, palette='viridis')\n",
    "plt.title('Class distribution of emotions')\n",
    "plt.xlabel('Nombre')\n",
    "plt.ylabel('Emotions')\n",
    "plt.show()"
   ]
  },
  {
   "cell_type": "code",
   "execution_count": 13,
   "id": "259f8d2d",
   "metadata": {
    "execution": {
     "iopub.execute_input": "2024-11-22T01:05:25.020081Z",
     "iopub.status.busy": "2024-11-22T01:05:25.019679Z",
     "iopub.status.idle": "2024-11-22T01:05:25.026252Z",
     "shell.execute_reply": "2024-11-22T01:05:25.025187Z"
    },
    "papermill": {
     "duration": 0.015059,
     "end_time": "2024-11-22T01:05:25.028479",
     "exception": false,
     "start_time": "2024-11-22T01:05:25.013420",
     "status": "completed"
    },
    "tags": []
   },
   "outputs": [],
   "source": [
    "class DER_Df(torch.utils.data.Dataset):\n",
    "  def __init__(self, file_addr):\n",
    "    super().__init__()\n",
    "    pd_dataset = pd.read_csv(file_addr)\n",
    "\n",
    "    self.numpy_dataset = np.array(pd_dataset, dtype=np.float32)\n",
    "\n",
    "\n",
    "  def __len__(self):\n",
    "    return len(self.numpy_dataset)\n",
    "\n",
    "  def __getitem__(self, index):\n",
    "\n",
    "    X = self.numpy_dataset[index, 1:]\n",
    "    Y = self.numpy_dataset[index, 0]\n",
    "\n",
    "\n",
    "    return X, Y"
   ]
  },
  {
   "cell_type": "code",
   "execution_count": null,
   "id": "52356d5e",
   "metadata": {
    "papermill": {
     "duration": 0.004925,
     "end_time": "2024-11-22T01:05:25.038583",
     "exception": false,
     "start_time": "2024-11-22T01:05:25.033658",
     "status": "completed"
    },
    "tags": []
   },
   "outputs": [],
   "source": []
  },
  {
   "cell_type": "code",
   "execution_count": 14,
   "id": "b1fa79be",
   "metadata": {
    "execution": {
     "iopub.execute_input": "2024-11-22T01:05:25.050903Z",
     "iopub.status.busy": "2024-11-22T01:05:25.050057Z",
     "iopub.status.idle": "2024-11-22T01:05:25.137333Z",
     "shell.execute_reply": "2024-11-22T01:05:25.135984Z"
    },
    "papermill": {
     "duration": 0.097172,
     "end_time": "2024-11-22T01:05:25.140874",
     "exception": false,
     "start_time": "2024-11-22T01:05:25.043702",
     "status": "completed"
    },
    "tags": []
   },
   "outputs": [
    {
     "name": "stdout",
     "output_type": "stream",
     "text": [
      "Happy\n"
     ]
    },
    {
     "data": {
      "image/png": "[encoded data removed]",
      "text/plain": [
       "<Figure size 640x480 with 1 Axes>"
      ]
     },
     "metadata": {},
     "output_type": "display_data"
    }
   ],
   "source": [
    "def show_dfinstance(index):\n",
    "    image = np.array(df.at[index, \"pixels\"].split(\" \"), dtype=\"float32\")\n",
    "    \n",
    "    image -= np.mean(image)\n",
    "    image /= np.std(image)\n",
    "    \n",
    "    print(emotions[df.at[index, \"emotion\"]])\n",
    "    \n",
    "    image = image.reshape(48, 48)\n",
    "    \n",
    "    plt.imshow(image, cmap=\"gray\")\n",
    "    plt.axis('off')\n",
    "    plt.show()  \n",
    "\n",
    "show_dfinstance(np.random.randint(90, len(df)))"
   ]
  },
  {
   "cell_type": "code",
   "execution_count": null,
   "id": "927149e5",
   "metadata": {
    "papermill": {
     "duration": 0.014281,
     "end_time": "2024-11-22T01:05:25.170061",
     "exception": false,
     "start_time": "2024-11-22T01:05:25.155780",
     "status": "completed"
    },
    "tags": []
   },
   "outputs": [],
   "source": []
  }
 ],
 "metadata": {
  "kaggle": {
   "accelerator": "none",
   "dataSources": [
    {
     "datasetId": 28577,
     "sourceId": 36420,
     "sourceType": "datasetVersion"
    }
   ],
   "dockerImageVersionId": 30786,
   "isGpuEnabled": false,
   "isInternetEnabled": false,
   "language": "python",
   "sourceType": "notebook"
  },
  "kernelspec": {
   "display_name": "Python 3",
   "language": "python",
   "name": "python3"
  },
  "language_info": {
   "codemirror_mode": {
    "name": "ipython",
    "version": 3
   },
   "file_extension": ".py",
   "mimetype": "text/x-python",
   "name": "python",
   "nbconvert_exporter": "python",
   "pygments_lexer": "ipython3",
   "version": "3.10.14"
  },
  "papermill": {
   "default_parameters": {},
   "duration": 23.093142,
   "end_time": "2024-11-22T01:05:26.611957",
   "environment_variables": {},
   "exception": null,
   "input_path": "__notebook__.ipynb",
   "output_path": "__notebook__.ipynb",
   "parameters": {},
   "start_time": "2024-11-22T01:05:03.518815",
   "version": "2.6.0"
  }
 },
 "nbformat": 4,
 "nbformat_minor": 5
}
